{
 "cells": [
  {
   "cell_type": "code",
   "execution_count": 1,
   "id": "030683c3",
   "metadata": {},
   "outputs": [
    {
     "name": "stdout",
     "output_type": "stream",
     "text": [
      "Requirement already satisfied: panel in c:\\users\\minekaya\\anaconda3\\lib\\site-packages (1.3.1)\n",
      "Requirement already satisfied: bokeh<3.4.0,>=3.2.0 in c:\\users\\minekaya\\anaconda3\\lib\\site-packages (from panel) (3.2.1)\n",
      "Requirement already satisfied: param<3.0,>=2.0.0 in c:\\users\\minekaya\\anaconda3\\lib\\site-packages (from panel) (2.0.0)\n",
      "Requirement already satisfied: pyviz-comms>=0.7.4 in c:\\users\\minekaya\\anaconda3\\lib\\site-packages (from panel) (2.3.0)\n",
      "Requirement already satisfied: xyzservices>=2021.09.1 in c:\\users\\minekaya\\anaconda3\\lib\\site-packages (from panel) (2022.9.0)\n",
      "Requirement already satisfied: markdown in c:\\users\\minekaya\\anaconda3\\lib\\site-packages (from panel) (3.4.1)\n",
      "Requirement already satisfied: markdown-it-py in c:\\users\\minekaya\\anaconda3\\lib\\site-packages (from panel) (2.2.0)\n",
      "Requirement already satisfied: linkify-it-py in c:\\users\\minekaya\\anaconda3\\lib\\site-packages (from panel) (2.0.0)\n",
      "Requirement already satisfied: mdit-py-plugins in c:\\users\\minekaya\\anaconda3\\lib\\site-packages (from panel) (0.3.0)\n",
      "Requirement already satisfied: requests in c:\\users\\minekaya\\anaconda3\\lib\\site-packages (from panel) (2.31.0)\n",
      "Requirement already satisfied: tqdm>=4.48.0 in c:\\users\\minekaya\\anaconda3\\lib\\site-packages (from panel) (4.65.0)\n",
      "Requirement already satisfied: bleach in c:\\users\\minekaya\\anaconda3\\lib\\site-packages (from panel) (4.1.0)\n",
      "Requirement already satisfied: typing-extensions in c:\\users\\minekaya\\anaconda3\\lib\\site-packages (from panel) (4.8.0)\n",
      "Requirement already satisfied: pandas>=1.2 in c:\\users\\minekaya\\anaconda3\\lib\\site-packages (from panel) (1.5.3)\n",
      "Requirement already satisfied: Jinja2>=2.9 in c:\\users\\minekaya\\anaconda3\\lib\\site-packages (from bokeh<3.4.0,>=3.2.0->panel) (3.1.2)\n",
      "Requirement already satisfied: contourpy>=1 in c:\\users\\minekaya\\anaconda3\\lib\\site-packages (from bokeh<3.4.0,>=3.2.0->panel) (1.0.5)\n",
      "Requirement already satisfied: numpy>=1.16 in c:\\users\\minekaya\\anaconda3\\lib\\site-packages (from bokeh<3.4.0,>=3.2.0->panel) (1.24.3)\n",
      "Requirement already satisfied: packaging>=16.8 in c:\\users\\minekaya\\anaconda3\\lib\\site-packages (from bokeh<3.4.0,>=3.2.0->panel) (23.0)\n",
      "Requirement already satisfied: pillow>=7.1.0 in c:\\users\\minekaya\\anaconda3\\lib\\site-packages (from bokeh<3.4.0,>=3.2.0->panel) (9.4.0)\n",
      "Requirement already satisfied: PyYAML>=3.10 in c:\\users\\minekaya\\anaconda3\\lib\\site-packages (from bokeh<3.4.0,>=3.2.0->panel) (6.0)\n",
      "Requirement already satisfied: tornado>=5.1 in c:\\users\\minekaya\\anaconda3\\lib\\site-packages (from bokeh<3.4.0,>=3.2.0->panel) (6.3.2)\n",
      "Requirement already satisfied: python-dateutil>=2.8.1 in c:\\users\\minekaya\\anaconda3\\lib\\site-packages (from pandas>=1.2->panel) (2.8.2)\n",
      "Requirement already satisfied: pytz>=2020.1 in c:\\users\\minekaya\\anaconda3\\lib\\site-packages (from pandas>=1.2->panel) (2022.7)\n",
      "Requirement already satisfied: colorama in c:\\users\\minekaya\\anaconda3\\lib\\site-packages (from tqdm>=4.48.0->panel) (0.4.6)\n",
      "Requirement already satisfied: six>=1.9.0 in c:\\users\\minekaya\\anaconda3\\lib\\site-packages (from bleach->panel) (1.16.0)\n",
      "Requirement already satisfied: webencodings in c:\\users\\minekaya\\anaconda3\\lib\\site-packages (from bleach->panel) (0.5.1)\n",
      "Requirement already satisfied: uc-micro-py in c:\\users\\minekaya\\anaconda3\\lib\\site-packages (from linkify-it-py->panel) (1.0.1)\n",
      "Requirement already satisfied: mdurl~=0.1 in c:\\users\\minekaya\\anaconda3\\lib\\site-packages (from markdown-it-py->panel) (0.1.0)\n",
      "Requirement already satisfied: charset-normalizer<4,>=2 in c:\\users\\minekaya\\anaconda3\\lib\\site-packages (from requests->panel) (2.0.4)\n",
      "Requirement already satisfied: idna<4,>=2.5 in c:\\users\\minekaya\\anaconda3\\lib\\site-packages (from requests->panel) (3.4)\n",
      "Requirement already satisfied: urllib3<3,>=1.21.1 in c:\\users\\minekaya\\anaconda3\\lib\\site-packages (from requests->panel) (1.26.16)\n",
      "Requirement already satisfied: certifi>=2017.4.17 in c:\\users\\minekaya\\anaconda3\\lib\\site-packages (from requests->panel) (2023.7.22)\n",
      "Requirement already satisfied: MarkupSafe>=2.0 in c:\\users\\minekaya\\anaconda3\\lib\\site-packages (from Jinja2>=2.9->bokeh<3.4.0,>=3.2.0->panel) (2.1.1)\n",
      "Note: you may need to restart the kernel to use updated packages.\n"
     ]
    }
   ],
   "source": [
    "pip install panel"
   ]
  },
  {
   "cell_type": "code",
   "execution_count": 2,
   "id": "27ebaabf",
   "metadata": {},
   "outputs": [
    {
     "name": "stdout",
     "output_type": "stream",
     "text": [
      "Requirement already satisfied: langchain in c:\\users\\minekaya\\anaconda3\\lib\\site-packages (0.0.313)\n",
      "Requirement already satisfied: PyYAML>=5.3 in c:\\users\\minekaya\\anaconda3\\lib\\site-packages (from langchain) (6.0)\n",
      "Requirement already satisfied: SQLAlchemy<3,>=1.4 in c:\\users\\minekaya\\anaconda3\\lib\\site-packages (from langchain) (1.4.39)\n",
      "Requirement already satisfied: aiohttp<4.0.0,>=3.8.3 in c:\\users\\minekaya\\anaconda3\\lib\\site-packages (from langchain) (3.8.3)\n",
      "Requirement already satisfied: anyio<4.0 in c:\\users\\minekaya\\anaconda3\\lib\\site-packages (from langchain) (3.7.1)\n",
      "Requirement already satisfied: dataclasses-json<0.7,>=0.5.7 in c:\\users\\minekaya\\anaconda3\\lib\\site-packages (from langchain) (0.6.1)\n",
      "Requirement already satisfied: jsonpatch<2.0,>=1.33 in c:\\users\\minekaya\\anaconda3\\lib\\site-packages (from langchain) (1.33)\n",
      "Requirement already satisfied: langsmith<0.1.0,>=0.0.43 in c:\\users\\minekaya\\anaconda3\\lib\\site-packages (from langchain) (0.0.43)\n",
      "Requirement already satisfied: numpy<2,>=1 in c:\\users\\minekaya\\anaconda3\\lib\\site-packages (from langchain) (1.24.3)\n",
      "Requirement already satisfied: pydantic<3,>=1 in c:\\users\\minekaya\\anaconda3\\lib\\site-packages (from langchain) (1.10.12)\n",
      "Requirement already satisfied: requests<3,>=2 in c:\\users\\minekaya\\anaconda3\\lib\\site-packages (from langchain) (2.31.0)\n",
      "Requirement already satisfied: tenacity<9.0.0,>=8.1.0 in c:\\users\\minekaya\\anaconda3\\lib\\site-packages (from langchain) (8.2.3)\n",
      "Requirement already satisfied: attrs>=17.3.0 in c:\\users\\minekaya\\anaconda3\\lib\\site-packages (from aiohttp<4.0.0,>=3.8.3->langchain) (22.1.0)\n",
      "Requirement already satisfied: charset-normalizer<3.0,>=2.0 in c:\\users\\minekaya\\anaconda3\\lib\\site-packages (from aiohttp<4.0.0,>=3.8.3->langchain) (2.0.4)\n",
      "Requirement already satisfied: multidict<7.0,>=4.5 in c:\\users\\minekaya\\anaconda3\\lib\\site-packages (from aiohttp<4.0.0,>=3.8.3->langchain) (6.0.2)\n",
      "Requirement already satisfied: async-timeout<5.0,>=4.0.0a3 in c:\\users\\minekaya\\anaconda3\\lib\\site-packages (from aiohttp<4.0.0,>=3.8.3->langchain) (4.0.2)\n",
      "Requirement already satisfied: yarl<2.0,>=1.0 in c:\\users\\minekaya\\anaconda3\\lib\\site-packages (from aiohttp<4.0.0,>=3.8.3->langchain) (1.8.1)\n",
      "Requirement already satisfied: frozenlist>=1.1.1 in c:\\users\\minekaya\\anaconda3\\lib\\site-packages (from aiohttp<4.0.0,>=3.8.3->langchain) (1.3.3)\n",
      "Requirement already satisfied: aiosignal>=1.1.2 in c:\\users\\minekaya\\anaconda3\\lib\\site-packages (from aiohttp<4.0.0,>=3.8.3->langchain) (1.2.0)\n",
      "Requirement already satisfied: idna>=2.8 in c:\\users\\minekaya\\anaconda3\\lib\\site-packages (from anyio<4.0->langchain) (3.4)\n",
      "Requirement already satisfied: sniffio>=1.1 in c:\\users\\minekaya\\anaconda3\\lib\\site-packages (from anyio<4.0->langchain) (1.2.0)\n",
      "Requirement already satisfied: marshmallow<4.0.0,>=3.18.0 in c:\\users\\minekaya\\anaconda3\\lib\\site-packages (from dataclasses-json<0.7,>=0.5.7->langchain) (3.20.1)\n",
      "Requirement already satisfied: typing-inspect<1,>=0.4.0 in c:\\users\\minekaya\\anaconda3\\lib\\site-packages (from dataclasses-json<0.7,>=0.5.7->langchain) (0.9.0)\n",
      "Requirement already satisfied: jsonpointer>=1.9 in c:\\users\\minekaya\\anaconda3\\lib\\site-packages (from jsonpatch<2.0,>=1.33->langchain) (2.1)\n",
      "Requirement already satisfied: typing-extensions>=4.2.0 in c:\\users\\minekaya\\anaconda3\\lib\\site-packages (from pydantic<3,>=1->langchain) (4.8.0)\n",
      "Requirement already satisfied: urllib3<3,>=1.21.1 in c:\\users\\minekaya\\anaconda3\\lib\\site-packages (from requests<3,>=2->langchain) (1.26.16)\n",
      "Requirement already satisfied: certifi>=2017.4.17 in c:\\users\\minekaya\\anaconda3\\lib\\site-packages (from requests<3,>=2->langchain) (2023.7.22)\n",
      "Requirement already satisfied: greenlet!=0.4.17 in c:\\users\\minekaya\\anaconda3\\lib\\site-packages (from SQLAlchemy<3,>=1.4->langchain) (3.0.0)\n",
      "Requirement already satisfied: packaging>=17.0 in c:\\users\\minekaya\\anaconda3\\lib\\site-packages (from marshmallow<4.0.0,>=3.18.0->dataclasses-json<0.7,>=0.5.7->langchain) (23.0)\n",
      "Requirement already satisfied: mypy-extensions>=0.3.0 in c:\\users\\minekaya\\anaconda3\\lib\\site-packages (from typing-inspect<1,>=0.4.0->dataclasses-json<0.7,>=0.5.7->langchain) (0.4.3)\n",
      "Note: you may need to restart the kernel to use updated packages.\n"
     ]
    }
   ],
   "source": [
    "pip install langchain "
   ]
  },
  {
   "cell_type": "code",
   "execution_count": 3,
   "id": "0443b97b",
   "metadata": {},
   "outputs": [
    {
     "name": "stdout",
     "output_type": "stream",
     "text": [
      "Requirement already satisfied: openai in c:\\users\\minekaya\\anaconda3\\lib\\site-packages (0.28.1)\n",
      "Requirement already satisfied: requests>=2.20 in c:\\users\\minekaya\\anaconda3\\lib\\site-packages (from openai) (2.31.0)\n",
      "Requirement already satisfied: tqdm in c:\\users\\minekaya\\anaconda3\\lib\\site-packages (from openai) (4.65.0)\n",
      "Requirement already satisfied: aiohttp in c:\\users\\minekaya\\anaconda3\\lib\\site-packages (from openai) (3.8.3)\n",
      "Requirement already satisfied: charset-normalizer<4,>=2 in c:\\users\\minekaya\\anaconda3\\lib\\site-packages (from requests>=2.20->openai) (2.0.4)\n",
      "Requirement already satisfied: idna<4,>=2.5 in c:\\users\\minekaya\\anaconda3\\lib\\site-packages (from requests>=2.20->openai) (3.4)\n",
      "Requirement already satisfied: urllib3<3,>=1.21.1 in c:\\users\\minekaya\\anaconda3\\lib\\site-packages (from requests>=2.20->openai) (1.26.16)\n",
      "Requirement already satisfied: certifi>=2017.4.17 in c:\\users\\minekaya\\anaconda3\\lib\\site-packages (from requests>=2.20->openai) (2023.7.22)\n",
      "Requirement already satisfied: attrs>=17.3.0 in c:\\users\\minekaya\\anaconda3\\lib\\site-packages (from aiohttp->openai) (22.1.0)\n",
      "Requirement already satisfied: multidict<7.0,>=4.5 in c:\\users\\minekaya\\anaconda3\\lib\\site-packages (from aiohttp->openai) (6.0.2)\n",
      "Requirement already satisfied: async-timeout<5.0,>=4.0.0a3 in c:\\users\\minekaya\\anaconda3\\lib\\site-packages (from aiohttp->openai) (4.0.2)\n",
      "Requirement already satisfied: yarl<2.0,>=1.0 in c:\\users\\minekaya\\anaconda3\\lib\\site-packages (from aiohttp->openai) (1.8.1)\n",
      "Requirement already satisfied: frozenlist>=1.1.1 in c:\\users\\minekaya\\anaconda3\\lib\\site-packages (from aiohttp->openai) (1.3.3)\n",
      "Requirement already satisfied: aiosignal>=1.1.2 in c:\\users\\minekaya\\anaconda3\\lib\\site-packages (from aiohttp->openai) (1.2.0)\n",
      "Requirement already satisfied: colorama in c:\\users\\minekaya\\anaconda3\\lib\\site-packages (from tqdm->openai) (0.4.6)\n",
      "Note: you may need to restart the kernel to use updated packages.\n"
     ]
    }
   ],
   "source": [
    "pip install openai"
   ]
  },
  {
   "cell_type": "code",
   "execution_count": 4,
   "id": "dadd44a0",
   "metadata": {},
   "outputs": [
    {
     "name": "stdout",
     "output_type": "stream",
     "text": [
      "Requirement already satisfied: tabulate in c:\\users\\minekaya\\anaconda3\\lib\\site-packages (0.8.10)\n",
      "Note: you may need to restart the kernel to use updated packages.\n"
     ]
    }
   ],
   "source": [
    "pip install tabulate"
   ]
  },
  {
   "cell_type": "code",
   "execution_count": 5,
   "id": "3c6c35e5",
   "metadata": {},
   "outputs": [
    {
     "name": "stdout",
     "output_type": "stream",
     "text": [
      "Requirement already satisfied: pandas in c:\\users\\minekaya\\anaconda3\\lib\\site-packages (1.5.3)\n",
      "Requirement already satisfied: python-dateutil>=2.8.1 in c:\\users\\minekaya\\anaconda3\\lib\\site-packages (from pandas) (2.8.2)\n",
      "Requirement already satisfied: pytz>=2020.1 in c:\\users\\minekaya\\anaconda3\\lib\\site-packages (from pandas) (2022.7)\n",
      "Requirement already satisfied: numpy>=1.21.0 in c:\\users\\minekaya\\anaconda3\\lib\\site-packages (from pandas) (1.24.3)\n",
      "Requirement already satisfied: six>=1.5 in c:\\users\\minekaya\\anaconda3\\lib\\site-packages (from python-dateutil>=2.8.1->pandas) (1.16.0)\n",
      "Note: you may need to restart the kernel to use updated packages.\n"
     ]
    }
   ],
   "source": [
    "pip install pandas"
   ]
  },
  {
   "cell_type": "code",
   "execution_count": 6,
   "id": "b6b4f244",
   "metadata": {},
   "outputs": [],
   "source": [
    "import tabulate\n",
    "import pandas as pd\n",
    "from langchain.chat_models import ChatOpenAI\n",
    "\n",
    "from langchain.agents import create_csv_agent\n",
    "from langchain.agents.agent_types import AgentType\n",
    "\n",
    "from langchain import PromptTemplate, LLMChain \n"
   ]
  },
  {
   "cell_type": "code",
   "execution_count": 7,
   "id": "3be9407a",
   "metadata": {},
   "outputs": [],
   "source": [
    "OPENAI_API_KEY = 'your-openai-key'\n",
    "file_path_data = \"hackathon_data.csv\"\n",
    "\n",
    "#pd.read_csv(file_path_data)\n"
   ]
  },
  {
   "cell_type": "code",
   "execution_count": 26,
   "id": "9783ce82",
   "metadata": {},
   "outputs": [],
   "source": [
    "\n",
    "from langchain.memory import ConversationBufferMemory\n",
    "\n",
    "initial_info = \"\"\" \n",
    "            \n",
    "            I will give you information about where to find data on df1's below.\n",
    "            \n",
    "            Give responses to the question on the end of the text :\n",
    "          \n",
    "            df1 contains data about company's transactions happened on POS machine. POS machines belongs to Ödeal company.\n",
    "            If companies wants to use POS machines, they have to use Ödeal system.\n",
    "            df1 columns and column descriptions as following:\n",
    "            id: id of the company\n",
    "            Marka: name of the company\n",
    "            IsyeriTipi: type of the company. It can be bireysel or tüzel. Bireysel means its a one person businnes. Tüzel means there is lots of people working for the company.\n",
    "            UyeDurum: status of the company. It can be aktif or pasif. Aktif means company still active on the system, Pasif means company is passive.\n",
    "            UyeAdres: address of the company\n",
    "            Sehir :city of the company\n",
    "            UyeAktivasyonTarih : when company started to use POS \n",
    "            IslemID : id of the transaction  \n",
    "            IslemTarih : date of the transaction \n",
    "            IslemTutar : amount of the transaction \n",
    "            Tercih : type of service the company uses\n",
    "            Versiyon: version of the POS machine\n",
    "            SurumTarih : version release date\n",
    "            \n",
    "            Below is the question\n",
    "            Question:\n",
    "            \"\"\"\n",
    "\n",
    "memory = ConversationBufferMemory()\n",
    "memory.save_context({\"input\": initial_info , \"history\" : \"\" }, {\"output\": \"okey, what is the question?\"})\n",
    "memory.load_memory_variables({})\n",
    "\n",
    "final_output = ' '\n",
    "output = ' '\n"
   ]
  },
  {
   "cell_type": "code",
   "execution_count": null,
   "id": "d832d481",
   "metadata": {},
   "outputs": [],
   "source": [
    "llm = ChatOpenAI(temperature=0, model=\"gpt-3.5-turbo\", openai_api_key=OPENAI_API_KEY)\n",
    "#llm = ChatOpenAI(temperature=0, model=\"gpt-4\", openai_api_key=OPENAI_API_KEY)\n",
    "\n",
    "\n",
    "## agent (chain_1)\n",
    "csv_agent =create_csv_agent(\n",
    "        ChatOpenAI(temperature=0, model=\"gpt-3.5-turbo\", openai_api_key=OPENAI_API_KEY),\n",
    "        [file_path_data ], \n",
    "        verbose=True,\n",
    "        handle_parsing_errors=True,\n",
    "        stop=[\"\\nObservation:\"],\n",
    "        agent_type=AgentType.OPENAI_FUNCTIONS,\n",
    "    )\n"
   ]
  },
  {
   "cell_type": "code",
   "execution_count": null,
   "id": "ed2d3c87",
   "metadata": {},
   "outputs": [],
   "source": [
    "\n",
    "# prompt_template and memory in llm_chain (chain_2)\n",
    "\n",
    "from langchain.chains import LLMChain\n",
    "from langchain.prompts.prompt import PromptTemplate\n",
    "\n",
    "prompt_template = \"\"\"  \n",
    "            \n",
    "            You are a question-answering bot over the data you queryied from dataframe.\n",
    "            Give responses to the question on the end of the text :\n",
    "  \n",
    "            Here is the chat history:\n",
    "            {history}\n",
    "  \n",
    "            Below is the question\n",
    "            Human: {input} \n",
    "            AI Assistant:\"\"\"\n",
    "PROMPT = PromptTemplate(input_variables=[\"input\", \"history\"], template=prompt_template)"
   ]
  },
  {
   "cell_type": "code",
   "execution_count": 27,
   "id": "fe54fc08",
   "metadata": {},
   "outputs": [
    {
     "name": "stderr",
     "output_type": "stream",
     "text": [
      "C:\\Users\\MineKaya\\anaconda3\\Lib\\site-packages\\langchain\\agents\\agent_toolkits\\csv\\base.py:31: DtypeWarning: Columns (11,12) have mixed types. Specify dtype option on import or set low_memory=False.\n",
      "  df.append(pd.read_csv(item, **_kwargs))\n"
     ]
    },
    {
     "name": "stdout",
     "output_type": "stream",
     "text": [
      "\n",
      "\n",
      "\u001b[1m> Entering new ConversationChain chain...\u001b[0m\n",
      "Prompt after formatting:\n",
      "\u001b[32;1m\u001b[1;3m  \n",
      "            \n",
      "            You are a question-answering bot over the data you queryied from dataframe.\n",
      "            Give responses to the question on the end of the text :\n",
      "  \n",
      "            Here is the chat history:\n",
      "            Human:  \n",
      "            \n",
      "            I will give you information about where to find data on df1's below.\n",
      "            \n",
      "            Give responses to the question on the end of the text :\n",
      "          \n",
      "            df1 contains data about company's transactions happened on POS machine. POS machines belongs to Ödeal company.\n",
      "            If companies wants to use POS machines, they have to use Ödeal system.\n",
      "            df1 columns and column descriptions as following:\n",
      "            id: id of the company\n",
      "            Marka: name of the company\n",
      "            IsyeriTipi: type of the company. It can be bireysel or tüzel. Bireysel means its a one person businnes. Tüzel means there is lots of people working for the company.\n",
      "            UyeDurum: status of the company. It can be aktif or pasif. Aktif means company still active on the system, Pasif means company is passive.\n",
      "            UyeAdres: address of the company\n",
      "            Sehir :city of the company\n",
      "            UyeAktivasyonTarih : when company started to use POS \n",
      "            IslemID : id of the transaction  \n",
      "            IslemTarih : date of the transaction \n",
      "            IslemTutar : amount of the transaction \n",
      "            Tercih : type of service the company uses\n",
      "            Versiyon: version of the POS machine\n",
      "            SurumTarih : version release date\n",
      "            \n",
      "            Below is the question\n",
      "            Question:\n",
      "            \n",
      "AI: okey, what is the question?\n",
      "  \n",
      "            Below is the question\n",
      "            Human: can you list all company names? \n",
      "            AI Assistant:\u001b[0m\n",
      "\n",
      "\u001b[1m> Finished chain.\u001b[0m\n",
      "\n",
      "\n",
      "\u001b[1m> Entering new AgentExecutor chain...\u001b[0m\n",
      "\u001b[32;1m\u001b[1;3m\n",
      "Invoking: `python_repl_ast` with `{'query': \"df1['Marka'].unique().tolist()\"}`\n",
      "\n",
      "\n",
      "\u001b[0m\u001b[36;1m\u001b[1;3m['Kzar kü pazar', 'Teri tejileri', 'Aida aka gida', 'Hdeo he video', 'Hiye hatasiye', 'Hkek haan kek', 'Wtma waarıtma', 'Ayon arvasyon', 'Eşti ekd. şti', 'Took tatawook', 'Wsky woversky', 'Ka.ş kiva a.ş', 'Bant boaurant', 'Asua axaxesua', 'Rimi renetimi', 'Öeti ödirketi', 'Kayi kol bayi', 'Aüfe ass büfe', 'Biye bakaliye', 'Llım leazılım', 'Nfka nu yufka', 'Kıda kaz gıda', 'Küfe kar büfe', 'Hs 3 hy sis 3', 'Aket akmarket', 'Sesi suzanesi', 'Eket ermarket', 'Ezgi ezezgi', 'Bkal babakkal', 'Örek öz börek', 'Oden o- maden', 'Giye göhafiye', 'Alik arncilik', 'Mand mad land', 'Blas burillas', 'Bant baaurant', 'Aziz ab leziz', 'Dkli doymakli', 'Öket özmarket']\u001b[0m\u001b[32;1m\u001b[1;3mHere are the company names in df1:\n",
      "\n",
      "- Kzar kü pazar\n",
      "- Teri tejileri\n",
      "- Aida aka gida\n",
      "- Hdeo he video\n",
      "- Hiye hatasiye\n",
      "- Hkek haan kek\n",
      "- Wtma waarıtma\n",
      "- Ayon arvasyon\n",
      "- Eşti ekd. şti\n",
      "- Took tatawook\n",
      "- Wsky woversky\n",
      "- Ka.ş kiva a.ş\n",
      "- Bant boaurant\n",
      "- Asua axaxesua\n",
      "- Rimi renetimi\n",
      "- Öeti ödirketi\n",
      "- Kayi kol bayi\n",
      "- Aüfe ass büfe\n",
      "- Biye bakaliye\n",
      "- Llım leazılım\n",
      "- Nfka nu yufka\n",
      "- Kıda kaz gıda\n",
      "- Küfe kar büfe\n",
      "- Hs 3 hy sis 3\n",
      "- Aket akmarket\n",
      "- Sesi suzanesi\n",
      "- Eket ermarket\n",
      "- Ezgi ezezgi\n",
      "- Bkal babakkal\n",
      "- Örek öz börek\n",
      "- Oden o- maden\n",
      "- Giye göhafiye\n",
      "- Alik arncilik\n",
      "- Mand mad land\n",
      "- Blas burillas\n",
      "- Bant baaurant\n",
      "- Aziz ab leziz\n",
      "- Dkli doymakli\n",
      "- Öket özmarket\u001b[0m\n",
      "\n",
      "\u001b[1m> Finished chain.\u001b[0m\n"
     ]
    }
   ],
   "source": [
    "from langchain.memory import ConversationBufferWindowMemory,ConversationBufferMemory\n",
    "from langchain.chains import ConversationChain\n",
    "\n",
    "\n",
    "# ConversationChain\n",
    "\n",
    "memory_chain = ConversationChain(\n",
    "    llm =llm,\n",
    "    prompt = PROMPT,\n",
    "    memory=memory,\n",
    "    verbose=True\n",
    ")\n",
    "\n",
    "query = 'can you list all company names?'\n",
    "#query = 'how many transaction Biye bakaliye has?'\n",
    "#query = 'when Biye bakaliye started to use Ödeal POS ?'\n",
    "\n",
    "output += memory_chain.predict(input=query)\n",
    "\n",
    "ques = ( final_output + output + query)\n",
    "\n",
    "final_output += csv_agent.run(ques)"
   ]
  },
  {
   "cell_type": "code",
   "execution_count": null,
   "id": "6349cafa",
   "metadata": {},
   "outputs": [],
   "source": []
  }
 ],
 "metadata": {
  "kernelspec": {
   "display_name": "Python 3 (ipykernel)",
   "language": "python",
   "name": "python3"
  },
  "language_info": {
   "codemirror_mode": {
    "name": "ipython",
    "version": 3
   },
   "file_extension": ".py",
   "mimetype": "text/x-python",
   "name": "python",
   "nbconvert_exporter": "python",
   "pygments_lexer": "ipython3",
   "version": "3.11.4"
  }
 },
 "nbformat": 4,
 "nbformat_minor": 5
}
